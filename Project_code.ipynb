{
  "nbformat": 4,
  "nbformat_minor": 0,
  "metadata": {
    "colab": {
      "name": "Project_code.ipynb",
      "provenance": []
    },
    "kernelspec": {
      "name": "python3",
      "display_name": "Python 3"
    }
  },
  "cells": [
    {
      "cell_type": "markdown",
      "metadata": {
        "id": "eEmJ2l54BTfL"
      },
      "source": [
        "SECURE COMUNICATION SYSTEM\r\n",
        "\r\n",
        "CRYPTOGRAPHY SYSTEM USING VIGENERE CIPHER AND POLYBIUS CIPHER\r\n",
        "\r\n",
        "By- SHIVAM VATSHAYAN"
      ]
    },
    {
      "cell_type": "code",
      "metadata": {
        "id": "k1iSwo0QBLif"
      },
      "source": [
        "# Python code to implement \r\n",
        "# Vigenere Cipher \r\n",
        "\r\n",
        "# This function generates the  key in a cyclic manner until it's length isn't equal to the length of original text \r\n",
        "\r\n",
        "\r\n",
        "\r\n",
        "def generateKey(string, key): \r\n",
        "\tkey = list(key) \r\n",
        "\tif len(string) == len(key): \r\n",
        "\t\treturn(key) \r\n",
        "\telse: \r\n",
        "\t\tfor i in range(len(string) -\r\n",
        "\t\t\t\t\tlen(key)): \r\n",
        "\t\t\tkey.append(key[i % len(key)]) \r\n",
        "\treturn(\"\" . join(key)) "
      ],
      "execution_count": 1,
      "outputs": []
    },
    {
      "cell_type": "markdown",
      "metadata": {
        "id": "0JMbCcu9Bu98"
      },
      "source": [
        "For Full Project Code, Mail me at vatshayan007@gmail.com Now."
      ]
    },
    {
      "cell_type": "markdown",
      "metadata": {
        "id": "izxto2zyB3sD"
      },
      "source": [
        "Project is very Interesting and Easy to Understand"
      ]
    },
    {
      "cell_type": "markdown",
      "metadata": {
        "id": "PWUM_7tOB80X"
      },
      "source": [
        "I will send you PPT, Report and Project code directly."
      ]
    },
    {
      "cell_type": "markdown",
      "metadata": {
        "id": "crSYzkafCDyN"
      },
      "source": [
        "Mail me Now **vatshayan007@gmail.com** for Full Project !"
      ]
    },
    {
      "cell_type": "markdown",
      "metadata": {
        "id": "4vZbAArFCOWG"
      },
      "source": [
        "Let's Learn, work and Grow together.\r\n",
        "Ask freely!\r\n",
        "\r\n",
        "\r\n"
      ]
    },
    {
      "cell_type": "code",
      "metadata": {
        "id": "UjHRWvfmB292"
      },
      "source": [
        ""
      ],
      "execution_count": null,
      "outputs": []
    },
    {
      "cell_type": "code",
      "metadata": {
        "id": "YeauHKAKBs-O"
      },
      "source": [
        ""
      ],
      "execution_count": null,
      "outputs": []
    }
  ]
}